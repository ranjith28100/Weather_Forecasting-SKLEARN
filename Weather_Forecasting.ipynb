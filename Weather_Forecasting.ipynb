{
 "cells": [
  {
   "cell_type": "code",
   "execution_count": 1,
   "metadata": {},
   "outputs": [],
   "source": [
    "import numpy as np\n",
    "import pandas as pd\n",
    "import matplotlib.pyplot as plt"
   ]
  },
  {
   "cell_type": "code",
   "execution_count": 2,
   "metadata": {},
   "outputs": [],
   "source": [
    "dataset = pd.read_csv('Weather Data.csv')"
   ]
  },
  {
   "cell_type": "code",
   "execution_count": 3,
   "metadata": {},
   "outputs": [
    {
     "name": "stdout",
     "output_type": "stream",
     "text": [
      "<class 'pandas.core.frame.DataFrame'>\n",
      "RangeIndex: 3896 entries, 0 to 3895\n",
      "Data columns (total 12 columns):\n",
      "DateTime       3896 non-null object\n",
      "Condition      3896 non-null object\n",
      "Rain           3896 non-null float64\n",
      "MaxTemp        3896 non-null int64\n",
      "MinTemp        3896 non-null int64\n",
      "SunRise        3896 non-null object\n",
      "SunSet         3896 non-null object\n",
      "MoonRise       3764 non-null object\n",
      "MoonSet        3765 non-null object\n",
      "AvgWind        3896 non-null int64\n",
      "AvgHumidity    3896 non-null int64\n",
      "AvgPressure    3896 non-null int64\n",
      "dtypes: float64(1), int64(5), object(6)\n",
      "memory usage: 365.3+ KB\n"
     ]
    }
   ],
   "source": [
    "dataset.info()"
   ]
  },
  {
   "cell_type": "code",
   "execution_count": 4,
   "metadata": {},
   "outputs": [],
   "source": [
    "dataset.dropna(inplace =True)"
   ]
  },
  {
   "cell_type": "code",
   "execution_count": 5,
   "metadata": {},
   "outputs": [
    {
     "data": {
      "text/html": [
       "<div>\n",
       "<style scoped>\n",
       "    .dataframe tbody tr th:only-of-type {\n",
       "        vertical-align: middle;\n",
       "    }\n",
       "\n",
       "    .dataframe tbody tr th {\n",
       "        vertical-align: top;\n",
       "    }\n",
       "\n",
       "    .dataframe thead th {\n",
       "        text-align: right;\n",
       "    }\n",
       "</style>\n",
       "<table border=\"1\" class=\"dataframe\">\n",
       "  <thead>\n",
       "    <tr style=\"text-align: right;\">\n",
       "      <th></th>\n",
       "      <th>DateTime</th>\n",
       "      <th>Condition</th>\n",
       "      <th>Rain</th>\n",
       "      <th>MaxTemp</th>\n",
       "      <th>MinTemp</th>\n",
       "      <th>SunRise</th>\n",
       "      <th>SunSet</th>\n",
       "      <th>MoonRise</th>\n",
       "      <th>MoonSet</th>\n",
       "      <th>AvgWind</th>\n",
       "      <th>AvgHumidity</th>\n",
       "      <th>AvgPressure</th>\n",
       "    </tr>\n",
       "  </thead>\n",
       "  <tbody>\n",
       "    <tr>\n",
       "      <th>0</th>\n",
       "      <td>02.09.2019</td>\n",
       "      <td>Partly cloudy</td>\n",
       "      <td>0.0</td>\n",
       "      <td>27</td>\n",
       "      <td>22</td>\n",
       "      <td>06:32:00</td>\n",
       "      <td>19:37:00</td>\n",
       "      <td>9:52:00</td>\n",
       "      <td>21:45:00</td>\n",
       "      <td>23</td>\n",
       "      <td>66</td>\n",
       "      <td>1012</td>\n",
       "    </tr>\n",
       "    <tr>\n",
       "      <th>1</th>\n",
       "      <td>01.09.2019</td>\n",
       "      <td>Partly cloudy</td>\n",
       "      <td>0.0</td>\n",
       "      <td>27</td>\n",
       "      <td>22</td>\n",
       "      <td>06:31:00</td>\n",
       "      <td>19:38:00</td>\n",
       "      <td>8:37:00</td>\n",
       "      <td>21:13:00</td>\n",
       "      <td>21</td>\n",
       "      <td>66</td>\n",
       "      <td>1011</td>\n",
       "    </tr>\n",
       "    <tr>\n",
       "      <th>2</th>\n",
       "      <td>31.08.2019</td>\n",
       "      <td>Patchy rain possible</td>\n",
       "      <td>0.5</td>\n",
       "      <td>26</td>\n",
       "      <td>22</td>\n",
       "      <td>06:30:00</td>\n",
       "      <td>19:40:00</td>\n",
       "      <td>7:21:00</td>\n",
       "      <td>20:40:00</td>\n",
       "      <td>22</td>\n",
       "      <td>63</td>\n",
       "      <td>1015</td>\n",
       "    </tr>\n",
       "  </tbody>\n",
       "</table>\n",
       "</div>"
      ],
      "text/plain": [
       "     DateTime             Condition  Rain  MaxTemp  MinTemp   SunRise  \\\n",
       "0  02.09.2019         Partly cloudy   0.0       27       22  06:32:00   \n",
       "1  01.09.2019         Partly cloudy   0.0       27       22  06:31:00   \n",
       "2  31.08.2019  Patchy rain possible   0.5       26       22  06:30:00   \n",
       "\n",
       "     SunSet MoonRise   MoonSet  AvgWind  AvgHumidity  AvgPressure  \n",
       "0  19:37:00  9:52:00  21:45:00       23           66         1012  \n",
       "1  19:38:00  8:37:00  21:13:00       21           66         1011  \n",
       "2  19:40:00  7:21:00  20:40:00       22           63         1015  "
      ]
     },
     "execution_count": 5,
     "metadata": {},
     "output_type": "execute_result"
    }
   ],
   "source": [
    "dataset.head(3)"
   ]
  },
  {
   "cell_type": "code",
   "execution_count": 6,
   "metadata": {},
   "outputs": [],
   "source": [
    "data = dataset[['Rain','AvgWind','AvgHumidity','AvgPressure']]"
   ]
  },
  {
   "cell_type": "code",
   "execution_count": 7,
   "metadata": {},
   "outputs": [
    {
     "name": "stderr",
     "output_type": "stream",
     "text": [
      "C:\\Users\\laksh\\Anaconda3\\lib\\site-packages\\ipykernel_launcher.py:1: SettingWithCopyWarning: \n",
      "A value is trying to be set on a copy of a slice from a DataFrame.\n",
      "Try using .loc[row_indexer,col_indexer] = value instead\n",
      "\n",
      "See the caveats in the documentation: http://pandas.pydata.org/pandas-docs/stable/indexing.html#indexing-view-versus-copy\n",
      "  \"\"\"Entry point for launching an IPython kernel.\n"
     ]
    }
   ],
   "source": [
    "data['temperature'] = (dataset['MinTemp']+dataset['MaxTemp'])/2"
   ]
  },
  {
   "cell_type": "code",
   "execution_count": 8,
   "metadata": {},
   "outputs": [
    {
     "name": "stdout",
     "output_type": "stream",
     "text": [
      "<class 'pandas.core.frame.DataFrame'>\n",
      "Int64Index: 3633 entries, 0 to 3895\n",
      "Data columns (total 5 columns):\n",
      "Rain           3633 non-null float64\n",
      "AvgWind        3633 non-null int64\n",
      "AvgHumidity    3633 non-null int64\n",
      "AvgPressure    3633 non-null int64\n",
      "temperature    3633 non-null float64\n",
      "dtypes: float64(2), int64(3)\n",
      "memory usage: 170.3 KB\n"
     ]
    }
   ],
   "source": [
    "data.info()\n"
   ]
  },
  {
   "cell_type": "code",
   "execution_count": 55,
   "metadata": {},
   "outputs": [
    {
     "data": {
      "text/html": [
       "<div>\n",
       "<style scoped>\n",
       "    .dataframe tbody tr th:only-of-type {\n",
       "        vertical-align: middle;\n",
       "    }\n",
       "\n",
       "    .dataframe tbody tr th {\n",
       "        vertical-align: top;\n",
       "    }\n",
       "\n",
       "    .dataframe thead th {\n",
       "        text-align: right;\n",
       "    }\n",
       "</style>\n",
       "<table border=\"1\" class=\"dataframe\">\n",
       "  <thead>\n",
       "    <tr style=\"text-align: right;\">\n",
       "      <th></th>\n",
       "      <th>Rain</th>\n",
       "      <th>AvgWind</th>\n",
       "      <th>AvgHumidity</th>\n",
       "      <th>AvgPressure</th>\n",
       "      <th>temperature</th>\n",
       "    </tr>\n",
       "  </thead>\n",
       "  <tbody>\n",
       "    <tr>\n",
       "      <th>count</th>\n",
       "      <td>3633.000000</td>\n",
       "      <td>3633.000000</td>\n",
       "      <td>3633.000000</td>\n",
       "      <td>3633.000000</td>\n",
       "      <td>3633.000000</td>\n",
       "    </tr>\n",
       "    <tr>\n",
       "      <th>mean</th>\n",
       "      <td>0.946689</td>\n",
       "      <td>16.974952</td>\n",
       "      <td>71.409854</td>\n",
       "      <td>1015.263969</td>\n",
       "      <td>15.949353</td>\n",
       "    </tr>\n",
       "    <tr>\n",
       "      <th>std</th>\n",
       "      <td>2.528564</td>\n",
       "      <td>7.945864</td>\n",
       "      <td>9.465023</td>\n",
       "      <td>6.297678</td>\n",
       "      <td>7.134826</td>\n",
       "    </tr>\n",
       "    <tr>\n",
       "      <th>min</th>\n",
       "      <td>0.000000</td>\n",
       "      <td>2.000000</td>\n",
       "      <td>40.000000</td>\n",
       "      <td>992.000000</td>\n",
       "      <td>-3.500000</td>\n",
       "    </tr>\n",
       "    <tr>\n",
       "      <th>25%</th>\n",
       "      <td>0.000000</td>\n",
       "      <td>11.000000</td>\n",
       "      <td>65.000000</td>\n",
       "      <td>1011.000000</td>\n",
       "      <td>10.000000</td>\n",
       "    </tr>\n",
       "    <tr>\n",
       "      <th>50%</th>\n",
       "      <td>0.020000</td>\n",
       "      <td>16.000000</td>\n",
       "      <td>71.000000</td>\n",
       "      <td>1015.000000</td>\n",
       "      <td>16.000000</td>\n",
       "    </tr>\n",
       "    <tr>\n",
       "      <th>75%</th>\n",
       "      <td>0.740000</td>\n",
       "      <td>22.000000</td>\n",
       "      <td>78.000000</td>\n",
       "      <td>1019.000000</td>\n",
       "      <td>22.500000</td>\n",
       "    </tr>\n",
       "    <tr>\n",
       "      <th>max</th>\n",
       "      <td>42.000000</td>\n",
       "      <td>56.000000</td>\n",
       "      <td>97.000000</td>\n",
       "      <td>1038.000000</td>\n",
       "      <td>30.000000</td>\n",
       "    </tr>\n",
       "  </tbody>\n",
       "</table>\n",
       "</div>"
      ],
      "text/plain": [
       "              Rain      AvgWind  AvgHumidity  AvgPressure  temperature\n",
       "count  3633.000000  3633.000000  3633.000000  3633.000000  3633.000000\n",
       "mean      0.946689    16.974952    71.409854  1015.263969    15.949353\n",
       "std       2.528564     7.945864     9.465023     6.297678     7.134826\n",
       "min       0.000000     2.000000    40.000000   992.000000    -3.500000\n",
       "25%       0.000000    11.000000    65.000000  1011.000000    10.000000\n",
       "50%       0.020000    16.000000    71.000000  1015.000000    16.000000\n",
       "75%       0.740000    22.000000    78.000000  1019.000000    22.500000\n",
       "max      42.000000    56.000000    97.000000  1038.000000    30.000000"
      ]
     },
     "execution_count": 55,
     "metadata": {},
     "output_type": "execute_result"
    }
   ],
   "source": [
    "data.describe()"
   ]
  },
  {
   "cell_type": "code",
   "execution_count": 25,
   "metadata": {},
   "outputs": [
    {
     "data": {
      "text/html": [
       "<div>\n",
       "<style scoped>\n",
       "    .dataframe tbody tr th:only-of-type {\n",
       "        vertical-align: middle;\n",
       "    }\n",
       "\n",
       "    .dataframe tbody tr th {\n",
       "        vertical-align: top;\n",
       "    }\n",
       "\n",
       "    .dataframe thead th {\n",
       "        text-align: right;\n",
       "    }\n",
       "</style>\n",
       "<table border=\"1\" class=\"dataframe\">\n",
       "  <thead>\n",
       "    <tr style=\"text-align: right;\">\n",
       "      <th>AvgPressure</th>\n",
       "      <th>992</th>\n",
       "      <th>995</th>\n",
       "      <th>997</th>\n",
       "      <th>998</th>\n",
       "      <th>999</th>\n",
       "      <th>1000</th>\n",
       "      <th>1001</th>\n",
       "      <th>1002</th>\n",
       "      <th>1003</th>\n",
       "      <th>1004</th>\n",
       "      <th>...</th>\n",
       "      <th>1029</th>\n",
       "      <th>1030</th>\n",
       "      <th>1031</th>\n",
       "      <th>1032</th>\n",
       "      <th>1033</th>\n",
       "      <th>1034</th>\n",
       "      <th>1035</th>\n",
       "      <th>1036</th>\n",
       "      <th>1037</th>\n",
       "      <th>1038</th>\n",
       "    </tr>\n",
       "  </thead>\n",
       "  <tbody>\n",
       "    <tr>\n",
       "      <th>count</th>\n",
       "      <td>1.0</td>\n",
       "      <td>2.000000</td>\n",
       "      <td>5.00000</td>\n",
       "      <td>2.000000</td>\n",
       "      <td>9.000000</td>\n",
       "      <td>7.000000</td>\n",
       "      <td>15.000000</td>\n",
       "      <td>23.000000</td>\n",
       "      <td>23.000000</td>\n",
       "      <td>43.000000</td>\n",
       "      <td>...</td>\n",
       "      <td>21.000000</td>\n",
       "      <td>24.000000</td>\n",
       "      <td>15.000000</td>\n",
       "      <td>18.000000</td>\n",
       "      <td>10.000000</td>\n",
       "      <td>6.000000</td>\n",
       "      <td>4.00000</td>\n",
       "      <td>1.0</td>\n",
       "      <td>2.00000</td>\n",
       "      <td>1.0</td>\n",
       "    </tr>\n",
       "    <tr>\n",
       "      <th>mean</th>\n",
       "      <td>14.0</td>\n",
       "      <td>12.500000</td>\n",
       "      <td>11.60000</td>\n",
       "      <td>11.750000</td>\n",
       "      <td>11.333333</td>\n",
       "      <td>13.928571</td>\n",
       "      <td>11.533333</td>\n",
       "      <td>14.086957</td>\n",
       "      <td>15.826087</td>\n",
       "      <td>17.744186</td>\n",
       "      <td>...</td>\n",
       "      <td>6.142857</td>\n",
       "      <td>7.666667</td>\n",
       "      <td>7.433333</td>\n",
       "      <td>4.555556</td>\n",
       "      <td>6.150000</td>\n",
       "      <td>6.000000</td>\n",
       "      <td>6.00000</td>\n",
       "      <td>4.0</td>\n",
       "      <td>4.25000</td>\n",
       "      <td>-1.5</td>\n",
       "    </tr>\n",
       "    <tr>\n",
       "      <th>std</th>\n",
       "      <td>NaN</td>\n",
       "      <td>3.535534</td>\n",
       "      <td>0.74162</td>\n",
       "      <td>2.474874</td>\n",
       "      <td>2.500000</td>\n",
       "      <td>2.572751</td>\n",
       "      <td>6.194660</td>\n",
       "      <td>4.806842</td>\n",
       "      <td>7.606231</td>\n",
       "      <td>7.265683</td>\n",
       "      <td>...</td>\n",
       "      <td>3.748809</td>\n",
       "      <td>3.583375</td>\n",
       "      <td>2.932982</td>\n",
       "      <td>2.661760</td>\n",
       "      <td>3.440365</td>\n",
       "      <td>5.718391</td>\n",
       "      <td>4.41588</td>\n",
       "      <td>NaN</td>\n",
       "      <td>1.06066</td>\n",
       "      <td>NaN</td>\n",
       "    </tr>\n",
       "    <tr>\n",
       "      <th>min</th>\n",
       "      <td>14.0</td>\n",
       "      <td>10.000000</td>\n",
       "      <td>10.50000</td>\n",
       "      <td>10.000000</td>\n",
       "      <td>8.000000</td>\n",
       "      <td>11.000000</td>\n",
       "      <td>5.000000</td>\n",
       "      <td>8.000000</td>\n",
       "      <td>4.000000</td>\n",
       "      <td>5.000000</td>\n",
       "      <td>...</td>\n",
       "      <td>-0.500000</td>\n",
       "      <td>1.500000</td>\n",
       "      <td>3.500000</td>\n",
       "      <td>0.500000</td>\n",
       "      <td>1.000000</td>\n",
       "      <td>-3.500000</td>\n",
       "      <td>-0.50000</td>\n",
       "      <td>4.0</td>\n",
       "      <td>3.50000</td>\n",
       "      <td>-1.5</td>\n",
       "    </tr>\n",
       "    <tr>\n",
       "      <th>25%</th>\n",
       "      <td>14.0</td>\n",
       "      <td>11.250000</td>\n",
       "      <td>11.50000</td>\n",
       "      <td>10.875000</td>\n",
       "      <td>10.000000</td>\n",
       "      <td>11.750000</td>\n",
       "      <td>8.500000</td>\n",
       "      <td>11.250000</td>\n",
       "      <td>10.250000</td>\n",
       "      <td>11.250000</td>\n",
       "      <td>...</td>\n",
       "      <td>3.500000</td>\n",
       "      <td>5.375000</td>\n",
       "      <td>5.000000</td>\n",
       "      <td>3.500000</td>\n",
       "      <td>3.750000</td>\n",
       "      <td>3.750000</td>\n",
       "      <td>5.12500</td>\n",
       "      <td>4.0</td>\n",
       "      <td>3.87500</td>\n",
       "      <td>-1.5</td>\n",
       "    </tr>\n",
       "    <tr>\n",
       "      <th>50%</th>\n",
       "      <td>14.0</td>\n",
       "      <td>12.500000</td>\n",
       "      <td>11.50000</td>\n",
       "      <td>11.750000</td>\n",
       "      <td>10.500000</td>\n",
       "      <td>13.500000</td>\n",
       "      <td>10.500000</td>\n",
       "      <td>13.000000</td>\n",
       "      <td>14.000000</td>\n",
       "      <td>19.000000</td>\n",
       "      <td>...</td>\n",
       "      <td>6.500000</td>\n",
       "      <td>8.000000</td>\n",
       "      <td>8.500000</td>\n",
       "      <td>4.250000</td>\n",
       "      <td>6.500000</td>\n",
       "      <td>7.250000</td>\n",
       "      <td>7.75000</td>\n",
       "      <td>4.0</td>\n",
       "      <td>4.25000</td>\n",
       "      <td>-1.5</td>\n",
       "    </tr>\n",
       "    <tr>\n",
       "      <th>75%</th>\n",
       "      <td>14.0</td>\n",
       "      <td>13.750000</td>\n",
       "      <td>12.00000</td>\n",
       "      <td>12.625000</td>\n",
       "      <td>13.000000</td>\n",
       "      <td>16.250000</td>\n",
       "      <td>11.750000</td>\n",
       "      <td>14.750000</td>\n",
       "      <td>21.000000</td>\n",
       "      <td>24.000000</td>\n",
       "      <td>...</td>\n",
       "      <td>8.000000</td>\n",
       "      <td>10.125000</td>\n",
       "      <td>9.250000</td>\n",
       "      <td>6.000000</td>\n",
       "      <td>8.875000</td>\n",
       "      <td>8.875000</td>\n",
       "      <td>8.62500</td>\n",
       "      <td>4.0</td>\n",
       "      <td>4.62500</td>\n",
       "      <td>-1.5</td>\n",
       "    </tr>\n",
       "    <tr>\n",
       "      <th>max</th>\n",
       "      <td>14.0</td>\n",
       "      <td>15.000000</td>\n",
       "      <td>12.50000</td>\n",
       "      <td>13.500000</td>\n",
       "      <td>15.500000</td>\n",
       "      <td>17.000000</td>\n",
       "      <td>26.000000</td>\n",
       "      <td>26.000000</td>\n",
       "      <td>28.500000</td>\n",
       "      <td>28.500000</td>\n",
       "      <td>...</td>\n",
       "      <td>14.500000</td>\n",
       "      <td>15.000000</td>\n",
       "      <td>13.000000</td>\n",
       "      <td>10.000000</td>\n",
       "      <td>11.000000</td>\n",
       "      <td>13.000000</td>\n",
       "      <td>9.00000</td>\n",
       "      <td>4.0</td>\n",
       "      <td>5.00000</td>\n",
       "      <td>-1.5</td>\n",
       "    </tr>\n",
       "  </tbody>\n",
       "</table>\n",
       "<p>8 rows × 44 columns</p>\n",
       "</div>"
      ],
      "text/plain": [
       "AvgPressure  992        995       997        998        999        1000  \\\n",
       "count         1.0   2.000000   5.00000   2.000000   9.000000   7.000000   \n",
       "mean         14.0  12.500000  11.60000  11.750000  11.333333  13.928571   \n",
       "std           NaN   3.535534   0.74162   2.474874   2.500000   2.572751   \n",
       "min          14.0  10.000000  10.50000  10.000000   8.000000  11.000000   \n",
       "25%          14.0  11.250000  11.50000  10.875000  10.000000  11.750000   \n",
       "50%          14.0  12.500000  11.50000  11.750000  10.500000  13.500000   \n",
       "75%          14.0  13.750000  12.00000  12.625000  13.000000  16.250000   \n",
       "max          14.0  15.000000  12.50000  13.500000  15.500000  17.000000   \n",
       "\n",
       "AvgPressure       1001       1002       1003       1004  ...        1029  \\\n",
       "count        15.000000  23.000000  23.000000  43.000000  ...   21.000000   \n",
       "mean         11.533333  14.086957  15.826087  17.744186  ...    6.142857   \n",
       "std           6.194660   4.806842   7.606231   7.265683  ...    3.748809   \n",
       "min           5.000000   8.000000   4.000000   5.000000  ...   -0.500000   \n",
       "25%           8.500000  11.250000  10.250000  11.250000  ...    3.500000   \n",
       "50%          10.500000  13.000000  14.000000  19.000000  ...    6.500000   \n",
       "75%          11.750000  14.750000  21.000000  24.000000  ...    8.000000   \n",
       "max          26.000000  26.000000  28.500000  28.500000  ...   14.500000   \n",
       "\n",
       "AvgPressure       1030       1031       1032       1033       1034     1035  \\\n",
       "count        24.000000  15.000000  18.000000  10.000000   6.000000  4.00000   \n",
       "mean          7.666667   7.433333   4.555556   6.150000   6.000000  6.00000   \n",
       "std           3.583375   2.932982   2.661760   3.440365   5.718391  4.41588   \n",
       "min           1.500000   3.500000   0.500000   1.000000  -3.500000 -0.50000   \n",
       "25%           5.375000   5.000000   3.500000   3.750000   3.750000  5.12500   \n",
       "50%           8.000000   8.500000   4.250000   6.500000   7.250000  7.75000   \n",
       "75%          10.125000   9.250000   6.000000   8.875000   8.875000  8.62500   \n",
       "max          15.000000  13.000000  10.000000  11.000000  13.000000  9.00000   \n",
       "\n",
       "AvgPressure  1036     1037  1038  \n",
       "count         1.0  2.00000   1.0  \n",
       "mean          4.0  4.25000  -1.5  \n",
       "std           NaN  1.06066   NaN  \n",
       "min           4.0  3.50000  -1.5  \n",
       "25%           4.0  3.87500  -1.5  \n",
       "50%           4.0  4.25000  -1.5  \n",
       "75%           4.0  4.62500  -1.5  \n",
       "max           4.0  5.00000  -1.5  \n",
       "\n",
       "[8 rows x 44 columns]"
      ]
     },
     "execution_count": 25,
     "metadata": {},
     "output_type": "execute_result"
    }
   ],
   "source": [
    "data['temperature'].groupby(data['AvgPressure']).describe().T"
   ]
  },
  {
   "cell_type": "code",
   "execution_count": 29,
   "metadata": {},
   "outputs": [
    {
     "data": {
      "text/plain": [
       "<matplotlib.collections.PathCollection at 0x2686e6b8710>"
      ]
     },
     "execution_count": 29,
     "metadata": {},
     "output_type": "execute_result"
    },
    {
     "data": {
      "image/png": "[encoded data removed]",
      "text/plain": [
       "<Figure size 432x288 with 1 Axes>"
      ]
     },
     "metadata": {},
     "output_type": "display_data"
    }
   ],
   "source": [
    "plt.scatter(data['AvgPressure'],data['temperature'])"
   ]
  },
  {
   "cell_type": "code",
   "execution_count": 31,
   "metadata": {},
   "outputs": [
    {
     "data": {
      "text/plain": [
       "Text(0,0.5,'temperature')"
      ]
     },
     "execution_count": 31,
     "metadata": {},
     "output_type": "execute_result"
    },
    {
     "data": {
      "image/png": "[encoded data removed]",
      "text/plain": [
       "<Figure size 432x288 with 1 Axes>"
      ]
     },
     "metadata": {},
     "output_type": "display_data"
    }
   ],
   "source": [
    "plt.scatter(data['AvgWind'],data['temperature'])\n",
    "plt.xlabel('AvgWind')\n",
    "plt.ylabel('temperature')"
   ]
  },
  {
   "cell_type": "code",
   "execution_count": 32,
   "metadata": {},
   "outputs": [
    {
     "data": {
      "text/plain": [
       "Text(0,0.5,'temperature')"
      ]
     },
     "execution_count": 32,
     "metadata": {},
     "output_type": "execute_result"
    },
    {
     "data": {
      "image/png": "[encoded data removed]",
      "text/plain": [
       "<Figure size 432x288 with 1 Axes>"
      ]
     },
     "metadata": {},
     "output_type": "display_data"
    }
   ],
   "source": [
    "plt.scatter(data['AvgHumidity'],data['temperature'])\n",
    "plt.xlabel('AvgHumidity')\n",
    "plt.ylabel('temperature')"
   ]
  },
  {
   "cell_type": "code",
   "execution_count": 33,
   "metadata": {},
   "outputs": [
    {
     "data": {
      "text/plain": [
       "<matplotlib.collections.PathCollection at 0x2686f974828>"
      ]
     },
     "execution_count": 33,
     "metadata": {},
     "output_type": "execute_result"
    },
    {
     "data": {
      "image/png": "[encoded data removed]",
      "text/plain": [
       "<Figure size 432x288 with 1 Axes>"
      ]
     },
     "metadata": {},
     "output_type": "display_data"
    }
   ],
   "source": [
    "plt.scatter(data['Rain'],data['temperature'])"
   ]
  },
  {
   "cell_type": "code",
   "execution_count": 38,
   "metadata": {},
   "outputs": [],
   "source": [
    "X = data.iloc[:,:4].values"
   ]
  },
  {
   "cell_type": "code",
   "execution_count": 39,
   "metadata": {},
   "outputs": [
    {
     "data": {
      "text/plain": [
       "array([[0.000e+00, 2.300e+01, 6.600e+01, 1.012e+03],\n",
       "       [0.000e+00, 2.100e+01, 6.600e+01, 1.011e+03],\n",
       "       [5.000e-01, 2.200e+01, 6.300e+01, 1.015e+03],\n",
       "       ...,\n",
       "       [2.910e+00, 9.000e+00, 9.400e+01, 1.014e+03],\n",
       "       [4.480e+00, 1.200e+01, 8.900e+01, 1.021e+03],\n",
       "       [2.300e-01, 1.000e+01, 9.000e+01, 1.027e+03]])"
      ]
     },
     "execution_count": 39,
     "metadata": {},
     "output_type": "execute_result"
    }
   ],
   "source": [
    "X"
   ]
  },
  {
   "cell_type": "code",
   "execution_count": 40,
   "metadata": {},
   "outputs": [],
   "source": [
    "y = data.iloc[:,4]"
   ]
  },
  {
   "cell_type": "code",
   "execution_count": 41,
   "metadata": {},
   "outputs": [
    {
     "data": {
      "text/plain": [
       "0       24.5\n",
       "1       24.5\n",
       "2       24.0\n",
       "3       24.5\n",
       "4       25.0\n",
       "5       26.0\n",
       "6       27.0\n",
       "7       27.0\n",
       "8       27.0\n",
       "9       27.0\n",
       "11      26.5\n",
       "12      24.5\n",
       "13      24.5\n",
       "14      24.0\n",
       "15      23.5\n",
       "16      21.5\n",
       "17      24.5\n",
       "18      25.5\n",
       "19      26.5\n",
       "20      26.5\n",
       "21      26.5\n",
       "22      25.5\n",
       "23      26.5\n",
       "24      26.0\n",
       "25      26.0\n",
       "27      25.0\n",
       "28      25.0\n",
       "29      24.5\n",
       "30      29.5\n",
       "31      27.0\n",
       "        ... \n",
       "3863     7.0\n",
       "3865     4.5\n",
       "3866     5.5\n",
       "3867     8.0\n",
       "3868    10.0\n",
       "3869    12.0\n",
       "3870    11.5\n",
       "3871    11.5\n",
       "3872    11.5\n",
       "3873    10.5\n",
       "3874    12.0\n",
       "3875    11.0\n",
       "3876    10.0\n",
       "3877     6.0\n",
       "3878     4.0\n",
       "3879     4.0\n",
       "3881    11.0\n",
       "3882     5.5\n",
       "3883     5.0\n",
       "3884     4.0\n",
       "3885     3.0\n",
       "3886     2.5\n",
       "3887     1.5\n",
       "3888     4.5\n",
       "3889     4.5\n",
       "3890     4.0\n",
       "3891     4.0\n",
       "3892     4.0\n",
       "3894     2.5\n",
       "3895     3.5\n",
       "Name: temperature, Length: 3633, dtype: float64"
      ]
     },
     "execution_count": 41,
     "metadata": {},
     "output_type": "execute_result"
    }
   ],
   "source": [
    "y"
   ]
  },
  {
   "cell_type": "code",
   "execution_count": 42,
   "metadata": {},
   "outputs": [
    {
     "name": "stderr",
     "output_type": "stream",
     "text": [
      "C:\\Users\\laksh\\Anaconda3\\lib\\site-packages\\sklearn\\model_selection\\_split.py:2026: FutureWarning: From version 0.21, test_size will always complement train_size unless both are specified.\n",
      "  FutureWarning)\n"
     ]
    }
   ],
   "source": [
    "from sklearn.model_selection import train_test_split\n",
    "X_train,X_test,y_train,y_test = train_test_split(X,y,train_size =0.8)"
   ]
  },
  {
   "cell_type": "code",
   "execution_count": 43,
   "metadata": {},
   "outputs": [
    {
     "data": {
      "text/plain": [
       "array([[5.500e-01, 1.100e+01, 9.200e+01, 1.013e+03],\n",
       "       [0.000e+00, 2.300e+01, 8.000e+01, 1.016e+03],\n",
       "       [1.260e+00, 1.300e+01, 9.100e+01, 1.009e+03],\n",
       "       ...,\n",
       "       [2.590e+00, 1.700e+01, 7.000e+01, 1.012e+03],\n",
       "       [4.000e-01, 1.000e+01, 5.900e+01, 1.013e+03],\n",
       "       [0.000e+00, 1.800e+01, 6.600e+01, 1.012e+03]])"
      ]
     },
     "execution_count": 43,
     "metadata": {},
     "output_type": "execute_result"
    }
   ],
   "source": [
    "X_train"
   ]
  },
  {
   "cell_type": "code",
   "execution_count": 46,
   "metadata": {},
   "outputs": [],
   "source": [
    "from sklearn.linear_model import LinearRegression"
   ]
  },
  {
   "cell_type": "code",
   "execution_count": 72,
   "metadata": {},
   "outputs": [],
   "source": [
    "regressor = LinearRegression()"
   ]
  },
  {
   "cell_type": "code",
   "execution_count": 73,
   "metadata": {},
   "outputs": [
    {
     "data": {
      "text/plain": [
       "0.19511640479301595"
      ]
     },
     "execution_count": 73,
     "metadata": {},
     "output_type": "execute_result"
    }
   ],
   "source": [
    "regressor.fit(X_train[:,3].reshape(-1,1),y_train)\n",
    "y_pred =regressor.predict(X_test[:,3].reshape(-1,1))\n",
    "from sklearn.metrics import r2_score\n",
    "r2_score(y_test,y_pred)"
   ]
  },
  {
   "cell_type": "code",
   "execution_count": 76,
   "metadata": {},
   "outputs": [
    {
     "data": {
      "text/plain": [
       "Text(0.5,1,'Pressure vs temp')"
      ]
     },
     "execution_count": 76,
     "metadata": {},
     "output_type": "execute_result"
    },
    {
     "data": {
      "image/png": "[encoded data removed]",
      "text/plain": [
       "<Figure size 432x288 with 1 Axes>"
      ]
     },
     "metadata": {},
     "output_type": "display_data"
    }
   ],
   "source": [
    "plt.scatter(X_train[:,3],y_train)\n",
    "plt.plot(X_train[:,3],regressor.predict(X_train[:,3].reshape(-1,1)))\n",
    "plt.xlabel('AvgPressure')\n",
    "plt.ylabel('Temperature')\n",
    "plt.title('Pressure vs temp')"
   ]
  },
  {
   "cell_type": "code",
   "execution_count": 83,
   "metadata": {},
   "outputs": [
    {
     "data": {
      "text/plain": [
       "0.006651244840795711"
      ]
     },
     "execution_count": 83,
     "metadata": {},
     "output_type": "execute_result"
    }
   ],
   "source": [
    "regressor.fit(X_train[:,1].reshape(-1,1),y_train)\n",
    "y_pred =regressor.predict(X_test[:,1].reshape(-1,1))\n",
    "from sklearn.metrics import r2_score\n",
    "r2_score(y_test,y_pred)"
   ]
  },
  {
   "cell_type": "code",
   "execution_count": 84,
   "metadata": {},
   "outputs": [
    {
     "data": {
      "text/plain": [
       "Text(0.5,1,'Wind vs temp')"
      ]
     },
     "execution_count": 84,
     "metadata": {},
     "output_type": "execute_result"
    },
    {
     "data": {
      "image/png": "[encoded data removed]",
      "text/plain": [
       "<Figure size 432x288 with 1 Axes>"
      ]
     },
     "metadata": {},
     "output_type": "display_data"
    }
   ],
   "source": [
    "plt.scatter(X_train[:,1],y_train)\n",
    "plt.plot(X_train[:,1],regressor.predict(X_train[:,1].reshape(-1,1)))\n",
    "plt.xlabel('AvgWind')\n",
    "plt.ylabel('Temperature')\n",
    "plt.title('Wind vs temp')"
   ]
  },
  {
   "cell_type": "code",
   "execution_count": 85,
   "metadata": {},
   "outputs": [
    {
     "data": {
      "text/plain": [
       "0.1794470189513474"
      ]
     },
     "execution_count": 85,
     "metadata": {},
     "output_type": "execute_result"
    }
   ],
   "source": [
    "regressor.fit(X_train[:,2].reshape(-1,1),y_train)\n",
    "y_pred =regressor.predict(X_test[:,2].reshape(-1,1))\n",
    "from sklearn.metrics import r2_score\n",
    "r2_score(y_test,y_pred)"
   ]
  },
  {
   "cell_type": "code",
   "execution_count": 86,
   "metadata": {},
   "outputs": [
    {
     "data": {
      "text/plain": [
       "Text(0.5,1,'Humidity vs temp')"
      ]
     },
     "execution_count": 86,
     "metadata": {},
     "output_type": "execute_result"
    },
    {
     "data": {
      "image/png": "[encoded data removed]",
      "text/plain": [
       "<Figure size 432x288 with 1 Axes>"
      ]
     },
     "metadata": {},
     "output_type": "display_data"
    }
   ],
   "source": [
    "plt.scatter(X_train[:,2],y_train)\n",
    "plt.plot(X_train[:,2],regressor.predict(X_train[:,2].reshape(-1,1)))\n",
    "plt.xlabel('AvgHumidity')\n",
    "plt.ylabel('Temperature')\n",
    "plt.title('Humidity vs temp')"
   ]
  },
  {
   "cell_type": "code",
   "execution_count": 88,
   "metadata": {},
   "outputs": [
    {
     "data": {
      "text/plain": [
       "0.022139090730393773"
      ]
     },
     "execution_count": 88,
     "metadata": {},
     "output_type": "execute_result"
    }
   ],
   "source": [
    "regressor.fit(X_train[:,0].reshape(-1,1),y_train)\n",
    "y_pred =regressor.predict(X_test[:,0].reshape(-1,1))\n",
    "from sklearn.metrics import r2_score\n",
    "r2_score(y_test,y_pred)"
   ]
  },
  {
   "cell_type": "code",
   "execution_count": 89,
   "metadata": {},
   "outputs": [
    {
     "data": {
      "text/plain": [
       "Text(0.5,1,'Rain vs temp')"
      ]
     },
     "execution_count": 89,
     "metadata": {},
     "output_type": "execute_result"
    },
    {
     "data": {
      "image/png": "[encoded data removed]",
      "text/plain": [
       "<Figure size 432x288 with 1 Axes>"
      ]
     },
     "metadata": {},
     "output_type": "display_data"
    }
   ],
   "source": [
    "plt.scatter(X_train[:,3],y_train)\n",
    "plt.plot(X_train[:,3],regressor.predict(X_train[:,3].reshape(-1,1)))\n",
    "plt.xlabel('Rain')\n",
    "plt.ylabel('Temperature')\n",
    "plt.title('Rain vs temp')"
   ]
  },
  {
   "cell_type": "code",
   "execution_count": 90,
   "metadata": {},
   "outputs": [
    {
     "data": {
      "text/plain": [
       "0.377063812735545"
      ]
     },
     "execution_count": 90,
     "metadata": {},
     "output_type": "execute_result"
    }
   ],
   "source": [
    "regressor.fit(X_train[:,2:4],y_train)\n",
    "y_pred =regressor.predict(X_test[:,2:4])\n",
    "from sklearn.metrics import r2_score\n",
    "r2_score(y_test,y_pred)"
   ]
  },
  {
   "cell_type": "code",
   "execution_count": 92,
   "metadata": {},
   "outputs": [],
   "source": [
    "from sklearn.tree import DecisionTreeRegressor\n",
    "regressor = DecisionTreeRegressor()"
   ]
  },
  {
   "cell_type": "code",
   "execution_count": 93,
   "metadata": {},
   "outputs": [
    {
     "data": {
      "text/plain": [
       "0.28206103407507377"
      ]
     },
     "execution_count": 93,
     "metadata": {},
     "output_type": "execute_result"
    }
   ],
   "source": [
    "regressor.fit(X_train[:,2:4],y_train)\n",
    "y_pred =regressor.predict(X_test[:,2:4])\n",
    "from sklearn.metrics import r2_score\n",
    "r2_score(y_test,y_pred)"
   ]
  },
  {
   "cell_type": "code",
   "execution_count": 94,
   "metadata": {},
   "outputs": [],
   "source": [
    "from sklearn.ensemble import RandomForestRegressor as RFR\n",
    "regressor = RFR()"
   ]
  },
  {
   "cell_type": "code",
   "execution_count": 95,
   "metadata": {},
   "outputs": [
    {
     "data": {
      "text/plain": [
       "0.3296408678547259"
      ]
     },
     "execution_count": 95,
     "metadata": {},
     "output_type": "execute_result"
    }
   ],
   "source": [
    "regressor.fit(X_train[:,2:4],y_train)\n",
    "y_pred =regressor.predict(X_test[:,2:4])\n",
    "from sklearn.metrics import r2_score\n",
    "r2_score(y_test,y_pred)"
   ]
  },
  {
   "cell_type": "code",
   "execution_count": 98,
   "metadata": {},
   "outputs": [],
   "source": [
    "from sklearn.svm import SVR\n",
    "regressor = SVR()"
   ]
  },
  {
   "cell_type": "code",
   "execution_count": 99,
   "metadata": {},
   "outputs": [
    {
     "data": {
      "text/plain": [
       "0.38117406319755764"
      ]
     },
     "execution_count": 99,
     "metadata": {},
     "output_type": "execute_result"
    }
   ],
   "source": [
    "regressor.fit(X_train[:,2:4],y_train)\n",
    "y_pred =regressor.predict(X_test[:,2:4])\n",
    "from sklearn.metrics import r2_score\n",
    "r2_score(y_test,y_pred)"
   ]
  },
  {
   "cell_type": "code",
   "execution_count": 114,
   "metadata": {},
   "outputs": [
    {
     "data": {
      "text/plain": [
       "PolynomialFeatures(degree=5, include_bias=True, interaction_only=False)"
      ]
     },
     "execution_count": 114,
     "metadata": {},
     "output_type": "execute_result"
    }
   ],
   "source": [
    "from sklearn.preprocessing import PolynomialFeatures \n",
    "poly = PolynomialFeatures(degree = 5) \n",
    "X_poly = poly.fit_transform(X) \n",
    "poly.fit(X_poly, y)  "
   ]
  },
  {
   "cell_type": "code",
   "execution_count": 115,
   "metadata": {},
   "outputs": [
    {
     "name": "stderr",
     "output_type": "stream",
     "text": [
      "C:\\Users\\laksh\\Anaconda3\\lib\\site-packages\\sklearn\\model_selection\\_split.py:2026: FutureWarning: From version 0.21, test_size will always complement train_size unless both are specified.\n",
      "  FutureWarning)\n"
     ]
    }
   ],
   "source": [
    "from sklearn.model_selection import train_test_split\n",
    "X_train,X_test,y_train,y_test = train_test_split(X_poly,y,train_size =0.8)"
   ]
  },
  {
   "cell_type": "code",
   "execution_count": 116,
   "metadata": {},
   "outputs": [
    {
     "data": {
      "text/plain": [
       "0.19600997243277918"
      ]
     },
     "execution_count": 116,
     "metadata": {},
     "output_type": "execute_result"
    }
   ],
   "source": [
    "regressor = LinearRegression()\n",
    "regressor.fit(X_train[:,2:4],y_train)\n",
    "y_pred =regressor.predict(X_test[:,2:4])\n",
    "from sklearn.metrics import r2_score\n",
    "r2_score(y_test,y_pred)"
   ]
  },
  {
   "cell_type": "code",
   "execution_count": 117,
   "metadata": {},
   "outputs": [
    {
     "data": {
      "text/plain": [
       "'\\n   from sklearn.preprocessing import StandardScaler\\n   ss = StandardScaler()\\n   ss.fit_transform(X_train)\\n   ss.fit(X_test)\\n'"
      ]
     },
     "execution_count": 117,
     "metadata": {},
     "output_type": "execute_result"
    }
   ],
   "source": [
    "'''\n",
    "   from sklearn.preprocessing import StandardScaler\n",
    "   ss = StandardScaler()\n",
    "   ss.fit_transform(X_train)\n",
    "   ss.fit(X_test)\n",
    "'''"
   ]
  },
  {
   "cell_type": "code",
   "execution_count": 119,
   "metadata": {},
   "outputs": [
    {
     "data": {
      "text/plain": [
       "'\\nfrom sklearn.preprocessing import Imputer\\nimpute_x = Imputer()\\nX = impute_x.fit_transform(x)\\n'"
      ]
     },
     "execution_count": 119,
     "metadata": {},
     "output_type": "execute_result"
    }
   ],
   "source": [
    "'''\n",
    "from sklearn.preprocessing import Imputer\n",
    "impute_x = Imputer()\n",
    "X = impute_x.fit_transform(x)\n",
    "'''"
   ]
  }
 ],
 "metadata": {
  "kernelspec": {
   "display_name": "Python 3",
   "language": "python",
   "name": "python3"
  },
  "language_info": {
   "codemirror_mode": {
    "name": "ipython",
    "version": 3
   },
   "file_extension": ".py",
   "mimetype": "text/x-python",
   "name": "python",
   "nbconvert_exporter": "python",
   "pygments_lexer": "ipython3",
   "version": "3.6.5"
  }
 },
 "nbformat": 4,
 "nbformat_minor": 2
}
